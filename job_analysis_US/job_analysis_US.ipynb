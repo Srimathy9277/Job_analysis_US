{
 "cells": [
  {
   "cell_type": "markdown",
   "id": "59e8c78b",
   "metadata": {},
   "source": [
    "# JOB ANALYSIS"
   ]
  },
  {
   "cell_type": "markdown",
   "id": "63507374",
   "metadata": {},
   "source": [
    "### OBJECTIVE"
   ]
  },
  {
   "cell_type": "markdown",
   "id": "c27d3ac5",
   "metadata": {},
   "source": [
    "The process of determining which jobs will demand specific qualifications in the future is known as job analysis. This information can then be utilised to develop a computer that properly forecasts which jobs will require these talents. \n",
    "  This data will be cleaned and organised before being processed with machine learning techniques such as KNN, SVM, and Decision tree. The most accurate algorithm will be tested on a confusion matrix and heatmap to determine if it delivers more accurate predictions than other approaches. Finally, Power BI can be used by users who are looking for work or have recently graduated to depict their career path."
   ]
  },
  {
   "cell_type": "markdown",
   "id": "a75a85a9",
   "metadata": {},
   "source": [
    "### GOAL OF THE PROJECT"
   ]
  },
  {
   "cell_type": "markdown",
   "id": "ec43df0d",
   "metadata": {},
   "source": [
    "The project's purpose is to inform those who are looking for job vacancies in the United States of America about which jobs have and how many job opportunities in various states of the United States of America."
   ]
  },
  {
   "cell_type": "markdown",
   "id": "d2cdcd31",
   "metadata": {},
   "source": [
    "### IMPORTING LIBRARIES"
   ]
  },
  {
   "cell_type": "code",
   "execution_count": 1,
   "id": "6a3eaeb2",
   "metadata": {},
   "outputs": [],
   "source": [
    "import numpy as np # linear algebra\n",
    "import pandas as pd # data processing, CSV file I/O (e.g. pd.read_csv)\n",
    "import matplotlib.pyplot as plt # data visualization\n",
    "import seaborn as sns # statistical data visualization\n",
    "\n",
    "from sklearn.model_selection import train_test_split\n",
    "from sklearn.tree import DecisionTreeClassifier # Import Decision Tree Classifier\n",
    "from sklearn.metrics import classification_report\n",
    "from sklearn.metrics import confusion_matrix,accuracy_score\n",
    "from sklearn.model_selection import train_test_split # Import train_test_split function\n",
    "from sklearn import metrics #Import scikit-learn metrics module for accuracy calculation\n",
    "from sklearn.preprocessing import StandardScaler\n",
    "from sklearn.model_selection import cross_val_score\n",
    "from sklearn.neighbors import KNeighborsClassifier\n",
    "from sklearn.svm import SVC # \"Support vector classifier\"  \n",
    "from sklearn import datasets\n",
    "from sklearn.model_selection import train_test_split\n",
    "from sklearn.svm import SVC\n",
    "from sklearn.metrics import accuracy_score\n",
    "\n",
    "\n",
    "from sklearn.metrics import mean_squared_error, mean_squared_log_error"
   ]
  },
  {
   "cell_type": "markdown",
   "id": "4c763702",
   "metadata": {},
   "source": [
    "### IMPORTING DATASET"
   ]
  },
  {
   "cell_type": "code",
   "execution_count": 2,
   "id": "efc84803",
   "metadata": {},
   "outputs": [],
   "source": [
    "df = pd.read_csv(\"C:\\\\Users\\\\91934\\\\OneDrive\\\\Desktop\\\\job_analysis.csv\")"
   ]
  },
  {
   "cell_type": "code",
   "execution_count": 3,
   "id": "d350cd44",
   "metadata": {},
   "outputs": [
    {
     "data": {
      "text/html": [
       "<div>\n",
       "<style scoped>\n",
       "    .dataframe tbody tr th:only-of-type {\n",
       "        vertical-align: middle;\n",
       "    }\n",
       "\n",
       "    .dataframe tbody tr th {\n",
       "        vertical-align: top;\n",
       "    }\n",
       "\n",
       "    .dataframe thead th {\n",
       "        text-align: right;\n",
       "    }\n",
       "</style>\n",
       "<table border=\"1\" class=\"dataframe\">\n",
       "  <thead>\n",
       "    <tr style=\"text-align: right;\">\n",
       "      <th></th>\n",
       "      <th>State FIPS</th>\n",
       "      <th>Area Name</th>\n",
       "      <th>Occupation Code</th>\n",
       "      <th>Occupation Name</th>\n",
       "      <th>Year</th>\n",
       "      <th>2022 opening</th>\n",
       "      <th>Prediction Year</th>\n",
       "      <th>2023 opening</th>\n",
       "      <th>Change</th>\n",
       "      <th>Percent Change</th>\n",
       "      <th>Average Annual Openings</th>\n",
       "    </tr>\n",
       "  </thead>\n",
       "  <tbody>\n",
       "    <tr>\n",
       "      <th>0</th>\n",
       "      <td>1</td>\n",
       "      <td>Alabama</td>\n",
       "      <td>00-0000</td>\n",
       "      <td>Total, All Occupations</td>\n",
       "      <td>2022</td>\n",
       "      <td>2139020</td>\n",
       "      <td>2023</td>\n",
       "      <td>2202040</td>\n",
       "      <td>63020</td>\n",
       "      <td>2.9</td>\n",
       "      <td>269120</td>\n",
       "    </tr>\n",
       "    <tr>\n",
       "      <th>1</th>\n",
       "      <td>1</td>\n",
       "      <td>Alabama</td>\n",
       "      <td>11-1011</td>\n",
       "      <td>Chief Executives</td>\n",
       "      <td>2022</td>\n",
       "      <td>2460</td>\n",
       "      <td>2023</td>\n",
       "      <td>2460</td>\n",
       "      <td>0</td>\n",
       "      <td>0.0</td>\n",
       "      <td>170</td>\n",
       "    </tr>\n",
       "    <tr>\n",
       "      <th>2</th>\n",
       "      <td>1</td>\n",
       "      <td>Alabama</td>\n",
       "      <td>11-1021</td>\n",
       "      <td>General and Operations Managers</td>\n",
       "      <td>2022</td>\n",
       "      <td>33020</td>\n",
       "      <td>2023</td>\n",
       "      <td>34260</td>\n",
       "      <td>1240</td>\n",
       "      <td>3.8</td>\n",
       "      <td>3380</td>\n",
       "    </tr>\n",
       "    <tr>\n",
       "      <th>3</th>\n",
       "      <td>1</td>\n",
       "      <td>Alabama</td>\n",
       "      <td>11-1031</td>\n",
       "      <td>Legislators</td>\n",
       "      <td>2022</td>\n",
       "      <td>1170</td>\n",
       "      <td>2023</td>\n",
       "      <td>1190</td>\n",
       "      <td>20</td>\n",
       "      <td>1.7</td>\n",
       "      <td>100</td>\n",
       "    </tr>\n",
       "    <tr>\n",
       "      <th>4</th>\n",
       "      <td>1</td>\n",
       "      <td>Alabama</td>\n",
       "      <td>11-2011</td>\n",
       "      <td>Advertising and Promotions Managers</td>\n",
       "      <td>2022</td>\n",
       "      <td>70</td>\n",
       "      <td>2023</td>\n",
       "      <td>80</td>\n",
       "      <td>10</td>\n",
       "      <td>14.3</td>\n",
       "      <td>10</td>\n",
       "    </tr>\n",
       "    <tr>\n",
       "      <th>...</th>\n",
       "      <td>...</td>\n",
       "      <td>...</td>\n",
       "      <td>...</td>\n",
       "      <td>...</td>\n",
       "      <td>...</td>\n",
       "      <td>...</td>\n",
       "      <td>...</td>\n",
       "      <td>...</td>\n",
       "      <td>...</td>\n",
       "      <td>...</td>\n",
       "      <td>...</td>\n",
       "    </tr>\n",
       "    <tr>\n",
       "      <th>33416</th>\n",
       "      <td>9</td>\n",
       "      <td>Connecticut</td>\n",
       "      <td>53-7062</td>\n",
       "      <td>Laborers and Freight, Stock, and Material Move...</td>\n",
       "      <td>2022</td>\n",
       "      <td>27720</td>\n",
       "      <td>2023</td>\n",
       "      <td>30890</td>\n",
       "      <td>3170</td>\n",
       "      <td>11.4</td>\n",
       "      <td>5410</td>\n",
       "    </tr>\n",
       "    <tr>\n",
       "      <th>33417</th>\n",
       "      <td>9</td>\n",
       "      <td>Connecticut</td>\n",
       "      <td>53-7064</td>\n",
       "      <td>Packers and Packagers, Hand</td>\n",
       "      <td>2022</td>\n",
       "      <td>4900</td>\n",
       "      <td>2023</td>\n",
       "      <td>5220</td>\n",
       "      <td>320</td>\n",
       "      <td>6.5</td>\n",
       "      <td>860</td>\n",
       "    </tr>\n",
       "    <tr>\n",
       "      <th>33418</th>\n",
       "      <td>9</td>\n",
       "      <td>Connecticut</td>\n",
       "      <td>53-7065</td>\n",
       "      <td>Stockers and Order Fillers</td>\n",
       "      <td>2022</td>\n",
       "      <td>22880</td>\n",
       "      <td>2023</td>\n",
       "      <td>24250</td>\n",
       "      <td>1370</td>\n",
       "      <td>6.0</td>\n",
       "      <td>4320</td>\n",
       "    </tr>\n",
       "    <tr>\n",
       "      <th>33419</th>\n",
       "      <td>9</td>\n",
       "      <td>Connecticut</td>\n",
       "      <td>53-7081</td>\n",
       "      <td>Refuse and Recyclable Material Collectors</td>\n",
       "      <td>2022</td>\n",
       "      <td>1030</td>\n",
       "      <td>2023</td>\n",
       "      <td>1060</td>\n",
       "      <td>30</td>\n",
       "      <td>2.9</td>\n",
       "      <td>150</td>\n",
       "    </tr>\n",
       "    <tr>\n",
       "      <th>33420</th>\n",
       "      <td>9</td>\n",
       "      <td>Connecticut</td>\n",
       "      <td>53-7199</td>\n",
       "      <td>Material Moving Workers, All Other</td>\n",
       "      <td>2022</td>\n",
       "      <td>50</td>\n",
       "      <td>2023</td>\n",
       "      <td>60</td>\n",
       "      <td>10</td>\n",
       "      <td>20.0</td>\n",
       "      <td>10</td>\n",
       "    </tr>\n",
       "  </tbody>\n",
       "</table>\n",
       "<p>33421 rows × 11 columns</p>\n",
       "</div>"
      ],
      "text/plain": [
       "       State FIPS    Area Name Occupation Code  \\\n",
       "0               1      Alabama         00-0000   \n",
       "1               1      Alabama         11-1011   \n",
       "2               1      Alabama         11-1021   \n",
       "3               1      Alabama         11-1031   \n",
       "4               1      Alabama         11-2011   \n",
       "...           ...          ...             ...   \n",
       "33416           9  Connecticut         53-7062   \n",
       "33417           9  Connecticut         53-7064   \n",
       "33418           9  Connecticut         53-7065   \n",
       "33419           9  Connecticut         53-7081   \n",
       "33420           9  Connecticut         53-7199   \n",
       "\n",
       "                                         Occupation Name  Year  2022 opening  \\\n",
       "0                                 Total, All Occupations  2022       2139020   \n",
       "1                                       Chief Executives  2022          2460   \n",
       "2                        General and Operations Managers  2022         33020   \n",
       "3                                            Legislators  2022          1170   \n",
       "4                    Advertising and Promotions Managers  2022            70   \n",
       "...                                                  ...   ...           ...   \n",
       "33416  Laborers and Freight, Stock, and Material Move...  2022         27720   \n",
       "33417                        Packers and Packagers, Hand  2022          4900   \n",
       "33418                         Stockers and Order Fillers  2022         22880   \n",
       "33419          Refuse and Recyclable Material Collectors  2022          1030   \n",
       "33420                 Material Moving Workers, All Other  2022            50   \n",
       "\n",
       "       Prediction Year  2023 opening  Change  Percent Change  \\\n",
       "0                 2023       2202040   63020             2.9   \n",
       "1                 2023          2460       0             0.0   \n",
       "2                 2023         34260    1240             3.8   \n",
       "3                 2023          1190      20             1.7   \n",
       "4                 2023            80      10            14.3   \n",
       "...                ...           ...     ...             ...   \n",
       "33416             2023         30890    3170            11.4   \n",
       "33417             2023          5220     320             6.5   \n",
       "33418             2023         24250    1370             6.0   \n",
       "33419             2023          1060      30             2.9   \n",
       "33420             2023            60      10            20.0   \n",
       "\n",
       "       Average Annual Openings  \n",
       "0                       269120  \n",
       "1                          170  \n",
       "2                         3380  \n",
       "3                          100  \n",
       "4                           10  \n",
       "...                        ...  \n",
       "33416                     5410  \n",
       "33417                      860  \n",
       "33418                     4320  \n",
       "33419                      150  \n",
       "33420                       10  \n",
       "\n",
       "[33421 rows x 11 columns]"
      ]
     },
     "execution_count": 3,
     "metadata": {},
     "output_type": "execute_result"
    }
   ],
   "source": [
    "df"
   ]
  },
  {
   "cell_type": "markdown",
   "id": "2fc21c58",
   "metadata": {},
   "source": [
    "### NATURE OF THE DATASET"
   ]
  },
  {
   "cell_type": "code",
   "execution_count": 4,
   "id": "700b696e",
   "metadata": {},
   "outputs": [
    {
     "name": "stdout",
     "output_type": "stream",
     "text": [
      "Dataset contains 33421 samples and 11 features\n"
     ]
    }
   ],
   "source": [
    "print(\"Dataset contains\", df.shape[0], \"samples and\" , df.shape[1], \"features\")"
   ]
  },
  {
   "cell_type": "markdown",
   "id": "5d81b43b",
   "metadata": {},
   "source": [
    "### DATASET ATTRIBUTES"
   ]
  },
  {
   "cell_type": "code",
   "execution_count": 5,
   "id": "a4def26e",
   "metadata": {},
   "outputs": [
    {
     "data": {
      "text/plain": [
       "Index(['State FIPS', 'Area Name', 'Occupation Code', 'Occupation Name', 'Year',\n",
       "       '2022 opening', 'Prediction Year', '2023 opening', 'Change',\n",
       "       'Percent Change', 'Average Annual Openings'],\n",
       "      dtype='object')"
      ]
     },
     "execution_count": 5,
     "metadata": {},
     "output_type": "execute_result"
    }
   ],
   "source": [
    "df.columns"
   ]
  },
  {
   "cell_type": "markdown",
   "id": "581b978d",
   "metadata": {},
   "source": [
    "### STATISTICAL OVERVIEW"
   ]
  },
  {
   "cell_type": "code",
   "execution_count": 6,
   "id": "4a9ae3d3",
   "metadata": {},
   "outputs": [
    {
     "data": {
      "text/html": [
       "<div>\n",
       "<style scoped>\n",
       "    .dataframe tbody tr th:only-of-type {\n",
       "        vertical-align: middle;\n",
       "    }\n",
       "\n",
       "    .dataframe tbody tr th {\n",
       "        vertical-align: top;\n",
       "    }\n",
       "\n",
       "    .dataframe thead th {\n",
       "        text-align: right;\n",
       "    }\n",
       "</style>\n",
       "<table border=\"1\" class=\"dataframe\">\n",
       "  <thead>\n",
       "    <tr style=\"text-align: right;\">\n",
       "      <th></th>\n",
       "      <th>State FIPS</th>\n",
       "      <th>Area Name</th>\n",
       "      <th>Occupation Code</th>\n",
       "      <th>Occupation Name</th>\n",
       "      <th>Year</th>\n",
       "      <th>2022 opening</th>\n",
       "      <th>Prediction Year</th>\n",
       "      <th>2023 opening</th>\n",
       "      <th>Change</th>\n",
       "      <th>Percent Change</th>\n",
       "      <th>Average Annual Openings</th>\n",
       "    </tr>\n",
       "  </thead>\n",
       "  <tbody>\n",
       "    <tr>\n",
       "      <th>0</th>\n",
       "      <td>1</td>\n",
       "      <td>Alabama</td>\n",
       "      <td>00-0000</td>\n",
       "      <td>Total, All Occupations</td>\n",
       "      <td>2022</td>\n",
       "      <td>2139020</td>\n",
       "      <td>2023</td>\n",
       "      <td>2202040</td>\n",
       "      <td>63020</td>\n",
       "      <td>2.9</td>\n",
       "      <td>269120</td>\n",
       "    </tr>\n",
       "    <tr>\n",
       "      <th>1</th>\n",
       "      <td>1</td>\n",
       "      <td>Alabama</td>\n",
       "      <td>11-1011</td>\n",
       "      <td>Chief Executives</td>\n",
       "      <td>2022</td>\n",
       "      <td>2460</td>\n",
       "      <td>2023</td>\n",
       "      <td>2460</td>\n",
       "      <td>0</td>\n",
       "      <td>0.0</td>\n",
       "      <td>170</td>\n",
       "    </tr>\n",
       "    <tr>\n",
       "      <th>2</th>\n",
       "      <td>1</td>\n",
       "      <td>Alabama</td>\n",
       "      <td>11-1021</td>\n",
       "      <td>General and Operations Managers</td>\n",
       "      <td>2022</td>\n",
       "      <td>33020</td>\n",
       "      <td>2023</td>\n",
       "      <td>34260</td>\n",
       "      <td>1240</td>\n",
       "      <td>3.8</td>\n",
       "      <td>3380</td>\n",
       "    </tr>\n",
       "    <tr>\n",
       "      <th>3</th>\n",
       "      <td>1</td>\n",
       "      <td>Alabama</td>\n",
       "      <td>11-1031</td>\n",
       "      <td>Legislators</td>\n",
       "      <td>2022</td>\n",
       "      <td>1170</td>\n",
       "      <td>2023</td>\n",
       "      <td>1190</td>\n",
       "      <td>20</td>\n",
       "      <td>1.7</td>\n",
       "      <td>100</td>\n",
       "    </tr>\n",
       "    <tr>\n",
       "      <th>4</th>\n",
       "      <td>1</td>\n",
       "      <td>Alabama</td>\n",
       "      <td>11-2011</td>\n",
       "      <td>Advertising and Promotions Managers</td>\n",
       "      <td>2022</td>\n",
       "      <td>70</td>\n",
       "      <td>2023</td>\n",
       "      <td>80</td>\n",
       "      <td>10</td>\n",
       "      <td>14.3</td>\n",
       "      <td>10</td>\n",
       "    </tr>\n",
       "  </tbody>\n",
       "</table>\n",
       "</div>"
      ],
      "text/plain": [
       "   State FIPS Area Name Occupation Code                      Occupation Name  \\\n",
       "0           1   Alabama         00-0000               Total, All Occupations   \n",
       "1           1   Alabama         11-1011                     Chief Executives   \n",
       "2           1   Alabama         11-1021      General and Operations Managers   \n",
       "3           1   Alabama         11-1031                          Legislators   \n",
       "4           1   Alabama         11-2011  Advertising and Promotions Managers   \n",
       "\n",
       "   Year  2022 opening  Prediction Year  2023 opening  Change  Percent Change  \\\n",
       "0  2022       2139020             2023       2202040   63020             2.9   \n",
       "1  2022          2460             2023          2460       0             0.0   \n",
       "2  2022         33020             2023         34260    1240             3.8   \n",
       "3  2022          1170             2023          1190      20             1.7   \n",
       "4  2022            70             2023            80      10            14.3   \n",
       "\n",
       "   Average Annual Openings  \n",
       "0                   269120  \n",
       "1                      170  \n",
       "2                     3380  \n",
       "3                      100  \n",
       "4                       10  "
      ]
     },
     "execution_count": 6,
     "metadata": {},
     "output_type": "execute_result"
    }
   ],
   "source": [
    "df.head()"
   ]
  },
  {
   "cell_type": "code",
   "execution_count": 7,
   "id": "56f31df3",
   "metadata": {},
   "outputs": [
    {
     "name": "stdout",
     "output_type": "stream",
     "text": [
      "<class 'pandas.core.frame.DataFrame'>\n",
      "RangeIndex: 33421 entries, 0 to 33420\n",
      "Data columns (total 11 columns):\n",
      " #   Column                   Non-Null Count  Dtype  \n",
      "---  ------                   --------------  -----  \n",
      " 0   State FIPS               33421 non-null  int64  \n",
      " 1   Area Name                33421 non-null  object \n",
      " 2   Occupation Code          33421 non-null  object \n",
      " 3   Occupation Name          33421 non-null  object \n",
      " 4   Year                     33421 non-null  int64  \n",
      " 5   2022 opening             33421 non-null  int64  \n",
      " 6   Prediction Year          33421 non-null  int64  \n",
      " 7   2023 opening             33421 non-null  int64  \n",
      " 8   Change                   33421 non-null  int64  \n",
      " 9   Percent Change           33421 non-null  float64\n",
      " 10  Average Annual Openings  33421 non-null  int64  \n",
      "dtypes: float64(1), int64(7), object(3)\n",
      "memory usage: 2.8+ MB\n"
     ]
    }
   ],
   "source": [
    "df.info()"
   ]
  },
  {
   "cell_type": "code",
   "execution_count": 8,
   "id": "1fdc45ac",
   "metadata": {},
   "outputs": [
    {
     "data": {
      "text/html": [
       "<div>\n",
       "<style scoped>\n",
       "    .dataframe tbody tr th:only-of-type {\n",
       "        vertical-align: middle;\n",
       "    }\n",
       "\n",
       "    .dataframe tbody tr th {\n",
       "        vertical-align: top;\n",
       "    }\n",
       "\n",
       "    .dataframe thead th {\n",
       "        text-align: right;\n",
       "    }\n",
       "</style>\n",
       "<table border=\"1\" class=\"dataframe\">\n",
       "  <thead>\n",
       "    <tr style=\"text-align: right;\">\n",
       "      <th></th>\n",
       "      <th>State FIPS</th>\n",
       "      <th>Year</th>\n",
       "      <th>2022 opening</th>\n",
       "      <th>Prediction Year</th>\n",
       "      <th>2023 opening</th>\n",
       "      <th>Change</th>\n",
       "      <th>Percent Change</th>\n",
       "      <th>Average Annual Openings</th>\n",
       "    </tr>\n",
       "  </thead>\n",
       "  <tbody>\n",
       "    <tr>\n",
       "      <th>count</th>\n",
       "      <td>33421.000000</td>\n",
       "      <td>33421.0</td>\n",
       "      <td>3.342100e+04</td>\n",
       "      <td>33421.0</td>\n",
       "      <td>3.342100e+04</td>\n",
       "      <td>3.342100e+04</td>\n",
       "      <td>33421.000000</td>\n",
       "      <td>3.342100e+04</td>\n",
       "    </tr>\n",
       "    <tr>\n",
       "      <th>mean</th>\n",
       "      <td>30.133120</td>\n",
       "      <td>2022.0</td>\n",
       "      <td>9.180817e+03</td>\n",
       "      <td>2023.0</td>\n",
       "      <td>9.615545e+03</td>\n",
       "      <td>4.347270e+02</td>\n",
       "      <td>3.765770</td>\n",
       "      <td>1.226659e+03</td>\n",
       "    </tr>\n",
       "    <tr>\n",
       "      <th>std</th>\n",
       "      <td>16.909456</td>\n",
       "      <td>0.0</td>\n",
       "      <td>1.772047e+05</td>\n",
       "      <td>0.0</td>\n",
       "      <td>1.870848e+05</td>\n",
       "      <td>1.035007e+04</td>\n",
       "      <td>6.212816</td>\n",
       "      <td>2.476801e+04</td>\n",
       "    </tr>\n",
       "    <tr>\n",
       "      <th>min</th>\n",
       "      <td>1.000000</td>\n",
       "      <td>2022.0</td>\n",
       "      <td>0.000000e+00</td>\n",
       "      <td>2023.0</td>\n",
       "      <td>0.000000e+00</td>\n",
       "      <td>-7.810000e+03</td>\n",
       "      <td>-100.000000</td>\n",
       "      <td>0.000000e+00</td>\n",
       "    </tr>\n",
       "    <tr>\n",
       "      <th>25%</th>\n",
       "      <td>17.000000</td>\n",
       "      <td>2022.0</td>\n",
       "      <td>2.500000e+02</td>\n",
       "      <td>2023.0</td>\n",
       "      <td>2.600000e+02</td>\n",
       "      <td>0.000000e+00</td>\n",
       "      <td>0.000000</td>\n",
       "      <td>3.000000e+01</td>\n",
       "    </tr>\n",
       "    <tr>\n",
       "      <th>50%</th>\n",
       "      <td>30.000000</td>\n",
       "      <td>2022.0</td>\n",
       "      <td>8.300000e+02</td>\n",
       "      <td>2023.0</td>\n",
       "      <td>8.600000e+02</td>\n",
       "      <td>2.000000e+01</td>\n",
       "      <td>2.900000</td>\n",
       "      <td>9.000000e+01</td>\n",
       "    </tr>\n",
       "    <tr>\n",
       "      <th>75%</th>\n",
       "      <td>44.000000</td>\n",
       "      <td>2022.0</td>\n",
       "      <td>3.020000e+03</td>\n",
       "      <td>2023.0</td>\n",
       "      <td>3.130000e+03</td>\n",
       "      <td>1.000000e+02</td>\n",
       "      <td>5.600000</td>\n",
       "      <td>3.500000e+02</td>\n",
       "    </tr>\n",
       "    <tr>\n",
       "      <th>max</th>\n",
       "      <td>78.000000</td>\n",
       "      <td>2022.0</td>\n",
       "      <td>1.800400e+07</td>\n",
       "      <td>2023.0</td>\n",
       "      <td>1.929620e+07</td>\n",
       "      <td>1.292200e+06</td>\n",
       "      <td>100.000000</td>\n",
       "      <td>2.684260e+06</td>\n",
       "    </tr>\n",
       "  </tbody>\n",
       "</table>\n",
       "</div>"
      ],
      "text/plain": [
       "         State FIPS     Year  2022 opening  Prediction Year  2023 opening  \\\n",
       "count  33421.000000  33421.0  3.342100e+04          33421.0  3.342100e+04   \n",
       "mean      30.133120   2022.0  9.180817e+03           2023.0  9.615545e+03   \n",
       "std       16.909456      0.0  1.772047e+05              0.0  1.870848e+05   \n",
       "min        1.000000   2022.0  0.000000e+00           2023.0  0.000000e+00   \n",
       "25%       17.000000   2022.0  2.500000e+02           2023.0  2.600000e+02   \n",
       "50%       30.000000   2022.0  8.300000e+02           2023.0  8.600000e+02   \n",
       "75%       44.000000   2022.0  3.020000e+03           2023.0  3.130000e+03   \n",
       "max       78.000000   2022.0  1.800400e+07           2023.0  1.929620e+07   \n",
       "\n",
       "             Change  Percent Change  Average Annual Openings  \n",
       "count  3.342100e+04    33421.000000             3.342100e+04  \n",
       "mean   4.347270e+02        3.765770             1.226659e+03  \n",
       "std    1.035007e+04        6.212816             2.476801e+04  \n",
       "min   -7.810000e+03     -100.000000             0.000000e+00  \n",
       "25%    0.000000e+00        0.000000             3.000000e+01  \n",
       "50%    2.000000e+01        2.900000             9.000000e+01  \n",
       "75%    1.000000e+02        5.600000             3.500000e+02  \n",
       "max    1.292200e+06      100.000000             2.684260e+06  "
      ]
     },
     "execution_count": 8,
     "metadata": {},
     "output_type": "execute_result"
    }
   ],
   "source": [
    "df.describe()"
   ]
  },
  {
   "cell_type": "markdown",
   "id": "2e2f5fa7",
   "metadata": {},
   "source": [
    "### CHECKING NULL VALUES"
   ]
  },
  {
   "cell_type": "code",
   "execution_count": 9,
   "id": "2aa46518",
   "metadata": {},
   "outputs": [
    {
     "data": {
      "text/html": [
       "<div>\n",
       "<style scoped>\n",
       "    .dataframe tbody tr th:only-of-type {\n",
       "        vertical-align: middle;\n",
       "    }\n",
       "\n",
       "    .dataframe tbody tr th {\n",
       "        vertical-align: top;\n",
       "    }\n",
       "\n",
       "    .dataframe thead th {\n",
       "        text-align: right;\n",
       "    }\n",
       "</style>\n",
       "<table border=\"1\" class=\"dataframe\">\n",
       "  <thead>\n",
       "    <tr style=\"text-align: right;\">\n",
       "      <th></th>\n",
       "      <th>State FIPS</th>\n",
       "      <th>Area Name</th>\n",
       "      <th>Occupation Code</th>\n",
       "      <th>Occupation Name</th>\n",
       "      <th>Year</th>\n",
       "      <th>2022 opening</th>\n",
       "      <th>Prediction Year</th>\n",
       "      <th>2023 opening</th>\n",
       "      <th>Change</th>\n",
       "      <th>Percent Change</th>\n",
       "      <th>Average Annual Openings</th>\n",
       "    </tr>\n",
       "  </thead>\n",
       "  <tbody>\n",
       "    <tr>\n",
       "      <th>0</th>\n",
       "      <td>False</td>\n",
       "      <td>False</td>\n",
       "      <td>False</td>\n",
       "      <td>False</td>\n",
       "      <td>False</td>\n",
       "      <td>False</td>\n",
       "      <td>False</td>\n",
       "      <td>False</td>\n",
       "      <td>False</td>\n",
       "      <td>False</td>\n",
       "      <td>False</td>\n",
       "    </tr>\n",
       "    <tr>\n",
       "      <th>1</th>\n",
       "      <td>False</td>\n",
       "      <td>False</td>\n",
       "      <td>False</td>\n",
       "      <td>False</td>\n",
       "      <td>False</td>\n",
       "      <td>False</td>\n",
       "      <td>False</td>\n",
       "      <td>False</td>\n",
       "      <td>False</td>\n",
       "      <td>False</td>\n",
       "      <td>False</td>\n",
       "    </tr>\n",
       "    <tr>\n",
       "      <th>2</th>\n",
       "      <td>False</td>\n",
       "      <td>False</td>\n",
       "      <td>False</td>\n",
       "      <td>False</td>\n",
       "      <td>False</td>\n",
       "      <td>False</td>\n",
       "      <td>False</td>\n",
       "      <td>False</td>\n",
       "      <td>False</td>\n",
       "      <td>False</td>\n",
       "      <td>False</td>\n",
       "    </tr>\n",
       "    <tr>\n",
       "      <th>3</th>\n",
       "      <td>False</td>\n",
       "      <td>False</td>\n",
       "      <td>False</td>\n",
       "      <td>False</td>\n",
       "      <td>False</td>\n",
       "      <td>False</td>\n",
       "      <td>False</td>\n",
       "      <td>False</td>\n",
       "      <td>False</td>\n",
       "      <td>False</td>\n",
       "      <td>False</td>\n",
       "    </tr>\n",
       "    <tr>\n",
       "      <th>4</th>\n",
       "      <td>False</td>\n",
       "      <td>False</td>\n",
       "      <td>False</td>\n",
       "      <td>False</td>\n",
       "      <td>False</td>\n",
       "      <td>False</td>\n",
       "      <td>False</td>\n",
       "      <td>False</td>\n",
       "      <td>False</td>\n",
       "      <td>False</td>\n",
       "      <td>False</td>\n",
       "    </tr>\n",
       "    <tr>\n",
       "      <th>...</th>\n",
       "      <td>...</td>\n",
       "      <td>...</td>\n",
       "      <td>...</td>\n",
       "      <td>...</td>\n",
       "      <td>...</td>\n",
       "      <td>...</td>\n",
       "      <td>...</td>\n",
       "      <td>...</td>\n",
       "      <td>...</td>\n",
       "      <td>...</td>\n",
       "      <td>...</td>\n",
       "    </tr>\n",
       "    <tr>\n",
       "      <th>33416</th>\n",
       "      <td>False</td>\n",
       "      <td>False</td>\n",
       "      <td>False</td>\n",
       "      <td>False</td>\n",
       "      <td>False</td>\n",
       "      <td>False</td>\n",
       "      <td>False</td>\n",
       "      <td>False</td>\n",
       "      <td>False</td>\n",
       "      <td>False</td>\n",
       "      <td>False</td>\n",
       "    </tr>\n",
       "    <tr>\n",
       "      <th>33417</th>\n",
       "      <td>False</td>\n",
       "      <td>False</td>\n",
       "      <td>False</td>\n",
       "      <td>False</td>\n",
       "      <td>False</td>\n",
       "      <td>False</td>\n",
       "      <td>False</td>\n",
       "      <td>False</td>\n",
       "      <td>False</td>\n",
       "      <td>False</td>\n",
       "      <td>False</td>\n",
       "    </tr>\n",
       "    <tr>\n",
       "      <th>33418</th>\n",
       "      <td>False</td>\n",
       "      <td>False</td>\n",
       "      <td>False</td>\n",
       "      <td>False</td>\n",
       "      <td>False</td>\n",
       "      <td>False</td>\n",
       "      <td>False</td>\n",
       "      <td>False</td>\n",
       "      <td>False</td>\n",
       "      <td>False</td>\n",
       "      <td>False</td>\n",
       "    </tr>\n",
       "    <tr>\n",
       "      <th>33419</th>\n",
       "      <td>False</td>\n",
       "      <td>False</td>\n",
       "      <td>False</td>\n",
       "      <td>False</td>\n",
       "      <td>False</td>\n",
       "      <td>False</td>\n",
       "      <td>False</td>\n",
       "      <td>False</td>\n",
       "      <td>False</td>\n",
       "      <td>False</td>\n",
       "      <td>False</td>\n",
       "    </tr>\n",
       "    <tr>\n",
       "      <th>33420</th>\n",
       "      <td>False</td>\n",
       "      <td>False</td>\n",
       "      <td>False</td>\n",
       "      <td>False</td>\n",
       "      <td>False</td>\n",
       "      <td>False</td>\n",
       "      <td>False</td>\n",
       "      <td>False</td>\n",
       "      <td>False</td>\n",
       "      <td>False</td>\n",
       "      <td>False</td>\n",
       "    </tr>\n",
       "  </tbody>\n",
       "</table>\n",
       "<p>33421 rows × 11 columns</p>\n",
       "</div>"
      ],
      "text/plain": [
       "       State FIPS  Area Name  Occupation Code  Occupation Name   Year  \\\n",
       "0           False      False            False            False  False   \n",
       "1           False      False            False            False  False   \n",
       "2           False      False            False            False  False   \n",
       "3           False      False            False            False  False   \n",
       "4           False      False            False            False  False   \n",
       "...           ...        ...              ...              ...    ...   \n",
       "33416       False      False            False            False  False   \n",
       "33417       False      False            False            False  False   \n",
       "33418       False      False            False            False  False   \n",
       "33419       False      False            False            False  False   \n",
       "33420       False      False            False            False  False   \n",
       "\n",
       "       2022 opening  Prediction Year  2023 opening  Change  Percent Change  \\\n",
       "0             False            False         False   False           False   \n",
       "1             False            False         False   False           False   \n",
       "2             False            False         False   False           False   \n",
       "3             False            False         False   False           False   \n",
       "4             False            False         False   False           False   \n",
       "...             ...              ...           ...     ...             ...   \n",
       "33416         False            False         False   False           False   \n",
       "33417         False            False         False   False           False   \n",
       "33418         False            False         False   False           False   \n",
       "33419         False            False         False   False           False   \n",
       "33420         False            False         False   False           False   \n",
       "\n",
       "       Average Annual Openings  \n",
       "0                        False  \n",
       "1                        False  \n",
       "2                        False  \n",
       "3                        False  \n",
       "4                        False  \n",
       "...                        ...  \n",
       "33416                    False  \n",
       "33417                    False  \n",
       "33418                    False  \n",
       "33419                    False  \n",
       "33420                    False  \n",
       "\n",
       "[33421 rows x 11 columns]"
      ]
     },
     "execution_count": 9,
     "metadata": {},
     "output_type": "execute_result"
    }
   ],
   "source": [
    "df.isnull()  "
   ]
  },
  {
   "cell_type": "code",
   "execution_count": 10,
   "id": "c1739621",
   "metadata": {},
   "outputs": [
    {
     "data": {
      "text/plain": [
       "State FIPS                 0\n",
       "Area Name                  0\n",
       "Occupation Code            0\n",
       "Occupation Name            0\n",
       "Year                       0\n",
       "2022 opening               0\n",
       "Prediction Year            0\n",
       "2023 opening               0\n",
       "Change                     0\n",
       "Percent Change             0\n",
       "Average Annual Openings    0\n",
       "dtype: int64"
      ]
     },
     "execution_count": 10,
     "metadata": {},
     "output_type": "execute_result"
    }
   ],
   "source": [
    "df.isnull().sum()"
   ]
  },
  {
   "cell_type": "markdown",
   "id": "a676b7ae",
   "metadata": {},
   "source": [
    "### TO REMOVE DUPLICATES"
   ]
  },
  {
   "cell_type": "code",
   "execution_count": 11,
   "id": "ebe347db",
   "metadata": {},
   "outputs": [
    {
     "data": {
      "text/plain": [
       "0        False\n",
       "1        False\n",
       "2        False\n",
       "3        False\n",
       "4        False\n",
       "         ...  \n",
       "33416    False\n",
       "33417    False\n",
       "33418    False\n",
       "33419    False\n",
       "33420    False\n",
       "Length: 33421, dtype: bool"
      ]
     },
     "execution_count": 11,
     "metadata": {},
     "output_type": "execute_result"
    }
   ],
   "source": [
    "df.duplicated()"
   ]
  },
  {
   "cell_type": "code",
   "execution_count": 12,
   "id": "d4daff0c",
   "metadata": {},
   "outputs": [
    {
     "name": "stdout",
     "output_type": "stream",
     "text": [
      "                         State FIPS  Year  2022 opening  Prediction Year  \\\n",
      "State FIPS                 1.000000   NaN     -0.005688              NaN   \n",
      "Year                            NaN   NaN           NaN              NaN   \n",
      "2022 opening              -0.005688   NaN      1.000000              NaN   \n",
      "Prediction Year                 NaN   NaN           NaN              NaN   \n",
      "2023 opening              -0.005889   NaN      0.999857              NaN   \n",
      "Change                    -0.009052   NaN      0.952004              NaN   \n",
      "Percent Change            -0.042699   NaN      0.008101              NaN   \n",
      "Average Annual Openings   -0.006342   NaN      0.994843              NaN   \n",
      "\n",
      "                         2023 opening    Change  Percent Change  \\\n",
      "State FIPS                  -0.005889 -0.009052       -0.042699   \n",
      "Year                              NaN       NaN             NaN   \n",
      "2022 opening                 0.999857  0.952004        0.008101   \n",
      "Prediction Year                   NaN       NaN             NaN   \n",
      "2023 opening                 1.000000  0.957051        0.009067   \n",
      "Change                       0.957051  1.000000        0.025190   \n",
      "Percent Change               0.009067  0.025190        1.000000   \n",
      "Average Annual Openings      0.996051  0.971512        0.013521   \n",
      "\n",
      "                         Average Annual Openings  \n",
      "State FIPS                             -0.006342  \n",
      "Year                                         NaN  \n",
      "2022 opening                            0.994843  \n",
      "Prediction Year                              NaN  \n",
      "2023 opening                            0.996051  \n",
      "Change                                  0.971512  \n",
      "Percent Change                          0.013521  \n",
      "Average Annual Openings                 1.000000  \n"
     ]
    },
    {
     "name": "stderr",
     "output_type": "stream",
     "text": [
      "C:\\Users\\91934\\AppData\\Local\\Temp\\ipykernel_23152\\4212406737.py:1: FutureWarning: The default value of numeric_only in DataFrame.corr is deprecated. In a future version, it will default to False. Select only valid columns or specify the value of numeric_only to silence this warning.\n",
      "  print(df.corr())\n"
     ]
    }
   ],
   "source": [
    "print(df.corr())"
   ]
  },
  {
   "cell_type": "markdown",
   "id": "0f54f4ba",
   "metadata": {},
   "source": [
    "### TO REMOVE ROW WITH VALUE 0"
   ]
  },
  {
   "cell_type": "code",
   "execution_count": 13,
   "id": "49aabd17",
   "metadata": {},
   "outputs": [
    {
     "data": {
      "text/html": [
       "<div>\n",
       "<style scoped>\n",
       "    .dataframe tbody tr th:only-of-type {\n",
       "        vertical-align: middle;\n",
       "    }\n",
       "\n",
       "    .dataframe tbody tr th {\n",
       "        vertical-align: top;\n",
       "    }\n",
       "\n",
       "    .dataframe thead th {\n",
       "        text-align: right;\n",
       "    }\n",
       "</style>\n",
       "<table border=\"1\" class=\"dataframe\">\n",
       "  <thead>\n",
       "    <tr style=\"text-align: right;\">\n",
       "      <th></th>\n",
       "      <th>State FIPS</th>\n",
       "      <th>Area Name</th>\n",
       "      <th>Occupation Code</th>\n",
       "      <th>Occupation Name</th>\n",
       "      <th>Year</th>\n",
       "      <th>2022 opening</th>\n",
       "      <th>Prediction Year</th>\n",
       "      <th>2023 opening</th>\n",
       "      <th>Change</th>\n",
       "      <th>Percent Change</th>\n",
       "      <th>Average Annual Openings</th>\n",
       "    </tr>\n",
       "  </thead>\n",
       "  <tbody>\n",
       "    <tr>\n",
       "      <th>0</th>\n",
       "      <td>1</td>\n",
       "      <td>Alabama</td>\n",
       "      <td>00-0000</td>\n",
       "      <td>Total, All Occupations</td>\n",
       "      <td>2022</td>\n",
       "      <td>2139020</td>\n",
       "      <td>2023</td>\n",
       "      <td>2202040</td>\n",
       "      <td>63020</td>\n",
       "      <td>2.9</td>\n",
       "      <td>269120</td>\n",
       "    </tr>\n",
       "    <tr>\n",
       "      <th>1</th>\n",
       "      <td>1</td>\n",
       "      <td>Alabama</td>\n",
       "      <td>11-1011</td>\n",
       "      <td>Chief Executives</td>\n",
       "      <td>2022</td>\n",
       "      <td>2460</td>\n",
       "      <td>2023</td>\n",
       "      <td>2460</td>\n",
       "      <td>0</td>\n",
       "      <td>0.0</td>\n",
       "      <td>170</td>\n",
       "    </tr>\n",
       "    <tr>\n",
       "      <th>2</th>\n",
       "      <td>1</td>\n",
       "      <td>Alabama</td>\n",
       "      <td>11-1021</td>\n",
       "      <td>General and Operations Managers</td>\n",
       "      <td>2022</td>\n",
       "      <td>33020</td>\n",
       "      <td>2023</td>\n",
       "      <td>34260</td>\n",
       "      <td>1240</td>\n",
       "      <td>3.8</td>\n",
       "      <td>3380</td>\n",
       "    </tr>\n",
       "    <tr>\n",
       "      <th>3</th>\n",
       "      <td>1</td>\n",
       "      <td>Alabama</td>\n",
       "      <td>11-1031</td>\n",
       "      <td>Legislators</td>\n",
       "      <td>2022</td>\n",
       "      <td>1170</td>\n",
       "      <td>2023</td>\n",
       "      <td>1190</td>\n",
       "      <td>20</td>\n",
       "      <td>1.7</td>\n",
       "      <td>100</td>\n",
       "    </tr>\n",
       "    <tr>\n",
       "      <th>4</th>\n",
       "      <td>1</td>\n",
       "      <td>Alabama</td>\n",
       "      <td>11-2011</td>\n",
       "      <td>Advertising and Promotions Managers</td>\n",
       "      <td>2022</td>\n",
       "      <td>70</td>\n",
       "      <td>2023</td>\n",
       "      <td>80</td>\n",
       "      <td>10</td>\n",
       "      <td>14.3</td>\n",
       "      <td>10</td>\n",
       "    </tr>\n",
       "    <tr>\n",
       "      <th>...</th>\n",
       "      <td>...</td>\n",
       "      <td>...</td>\n",
       "      <td>...</td>\n",
       "      <td>...</td>\n",
       "      <td>...</td>\n",
       "      <td>...</td>\n",
       "      <td>...</td>\n",
       "      <td>...</td>\n",
       "      <td>...</td>\n",
       "      <td>...</td>\n",
       "      <td>...</td>\n",
       "    </tr>\n",
       "    <tr>\n",
       "      <th>33416</th>\n",
       "      <td>9</td>\n",
       "      <td>Connecticut</td>\n",
       "      <td>53-7062</td>\n",
       "      <td>Laborers and Freight, Stock, and Material Move...</td>\n",
       "      <td>2022</td>\n",
       "      <td>27720</td>\n",
       "      <td>2023</td>\n",
       "      <td>30890</td>\n",
       "      <td>3170</td>\n",
       "      <td>11.4</td>\n",
       "      <td>5410</td>\n",
       "    </tr>\n",
       "    <tr>\n",
       "      <th>33417</th>\n",
       "      <td>9</td>\n",
       "      <td>Connecticut</td>\n",
       "      <td>53-7064</td>\n",
       "      <td>Packers and Packagers, Hand</td>\n",
       "      <td>2022</td>\n",
       "      <td>4900</td>\n",
       "      <td>2023</td>\n",
       "      <td>5220</td>\n",
       "      <td>320</td>\n",
       "      <td>6.5</td>\n",
       "      <td>860</td>\n",
       "    </tr>\n",
       "    <tr>\n",
       "      <th>33418</th>\n",
       "      <td>9</td>\n",
       "      <td>Connecticut</td>\n",
       "      <td>53-7065</td>\n",
       "      <td>Stockers and Order Fillers</td>\n",
       "      <td>2022</td>\n",
       "      <td>22880</td>\n",
       "      <td>2023</td>\n",
       "      <td>24250</td>\n",
       "      <td>1370</td>\n",
       "      <td>6.0</td>\n",
       "      <td>4320</td>\n",
       "    </tr>\n",
       "    <tr>\n",
       "      <th>33419</th>\n",
       "      <td>9</td>\n",
       "      <td>Connecticut</td>\n",
       "      <td>53-7081</td>\n",
       "      <td>Refuse and Recyclable Material Collectors</td>\n",
       "      <td>2022</td>\n",
       "      <td>1030</td>\n",
       "      <td>2023</td>\n",
       "      <td>1060</td>\n",
       "      <td>30</td>\n",
       "      <td>2.9</td>\n",
       "      <td>150</td>\n",
       "    </tr>\n",
       "    <tr>\n",
       "      <th>33420</th>\n",
       "      <td>9</td>\n",
       "      <td>Connecticut</td>\n",
       "      <td>53-7199</td>\n",
       "      <td>Material Moving Workers, All Other</td>\n",
       "      <td>2022</td>\n",
       "      <td>50</td>\n",
       "      <td>2023</td>\n",
       "      <td>60</td>\n",
       "      <td>10</td>\n",
       "      <td>20.0</td>\n",
       "      <td>10</td>\n",
       "    </tr>\n",
       "  </tbody>\n",
       "</table>\n",
       "<p>33421 rows × 11 columns</p>\n",
       "</div>"
      ],
      "text/plain": [
       "       State FIPS    Area Name Occupation Code  \\\n",
       "0               1      Alabama         00-0000   \n",
       "1               1      Alabama         11-1011   \n",
       "2               1      Alabama         11-1021   \n",
       "3               1      Alabama         11-1031   \n",
       "4               1      Alabama         11-2011   \n",
       "...           ...          ...             ...   \n",
       "33416           9  Connecticut         53-7062   \n",
       "33417           9  Connecticut         53-7064   \n",
       "33418           9  Connecticut         53-7065   \n",
       "33419           9  Connecticut         53-7081   \n",
       "33420           9  Connecticut         53-7199   \n",
       "\n",
       "                                         Occupation Name  Year  2022 opening  \\\n",
       "0                                 Total, All Occupations  2022       2139020   \n",
       "1                                       Chief Executives  2022          2460   \n",
       "2                        General and Operations Managers  2022         33020   \n",
       "3                                            Legislators  2022          1170   \n",
       "4                    Advertising and Promotions Managers  2022            70   \n",
       "...                                                  ...   ...           ...   \n",
       "33416  Laborers and Freight, Stock, and Material Move...  2022         27720   \n",
       "33417                        Packers and Packagers, Hand  2022          4900   \n",
       "33418                         Stockers and Order Fillers  2022         22880   \n",
       "33419          Refuse and Recyclable Material Collectors  2022          1030   \n",
       "33420                 Material Moving Workers, All Other  2022            50   \n",
       "\n",
       "       Prediction Year  2023 opening  Change  Percent Change  \\\n",
       "0                 2023       2202040   63020             2.9   \n",
       "1                 2023          2460       0             0.0   \n",
       "2                 2023         34260    1240             3.8   \n",
       "3                 2023          1190      20             1.7   \n",
       "4                 2023            80      10            14.3   \n",
       "...                ...           ...     ...             ...   \n",
       "33416             2023         30890    3170            11.4   \n",
       "33417             2023          5220     320             6.5   \n",
       "33418             2023         24250    1370             6.0   \n",
       "33419             2023          1060      30             2.9   \n",
       "33420             2023            60      10            20.0   \n",
       "\n",
       "       Average Annual Openings  \n",
       "0                       269120  \n",
       "1                          170  \n",
       "2                         3380  \n",
       "3                          100  \n",
       "4                           10  \n",
       "...                        ...  \n",
       "33416                     5410  \n",
       "33417                      860  \n",
       "33418                     4320  \n",
       "33419                      150  \n",
       "33420                       10  \n",
       "\n",
       "[33421 rows x 11 columns]"
      ]
     },
     "execution_count": 13,
     "metadata": {},
     "output_type": "execute_result"
    }
   ],
   "source": [
    "df[~(df==0).all(axis=1)]"
   ]
  },
  {
   "cell_type": "markdown",
   "id": "ceb5a6cc",
   "metadata": {},
   "source": [
    "### TO VIEW CAEGORICAL"
   ]
  },
  {
   "cell_type": "code",
   "execution_count": 14,
   "id": "c373ee31",
   "metadata": {},
   "outputs": [
    {
     "name": "stdout",
     "output_type": "stream",
     "text": [
      "There are 3 categorical variables\n",
      "\n",
      "The categorical variables are : ['Area Name', 'Occupation Code', 'Occupation Name']\n"
     ]
    }
   ],
   "source": [
    "categorical = [var for var in df.columns if df[var].dtype=='O']\n",
    "print('There are {} categorical variables\\n'.format(len(categorical)))\n",
    "print('The categorical variables are :', categorical)"
   ]
  },
  {
   "cell_type": "code",
   "execution_count": 15,
   "id": "a1aeb560",
   "metadata": {},
   "outputs": [
    {
     "data": {
      "text/html": [
       "<div>\n",
       "<style scoped>\n",
       "    .dataframe tbody tr th:only-of-type {\n",
       "        vertical-align: middle;\n",
       "    }\n",
       "\n",
       "    .dataframe tbody tr th {\n",
       "        vertical-align: top;\n",
       "    }\n",
       "\n",
       "    .dataframe thead th {\n",
       "        text-align: right;\n",
       "    }\n",
       "</style>\n",
       "<table border=\"1\" class=\"dataframe\">\n",
       "  <thead>\n",
       "    <tr style=\"text-align: right;\">\n",
       "      <th></th>\n",
       "      <th>Area Name</th>\n",
       "      <th>Occupation Code</th>\n",
       "      <th>Occupation Name</th>\n",
       "    </tr>\n",
       "  </thead>\n",
       "  <tbody>\n",
       "    <tr>\n",
       "      <th>0</th>\n",
       "      <td>Alabama</td>\n",
       "      <td>00-0000</td>\n",
       "      <td>Total, All Occupations</td>\n",
       "    </tr>\n",
       "    <tr>\n",
       "      <th>1</th>\n",
       "      <td>Alabama</td>\n",
       "      <td>11-1011</td>\n",
       "      <td>Chief Executives</td>\n",
       "    </tr>\n",
       "    <tr>\n",
       "      <th>2</th>\n",
       "      <td>Alabama</td>\n",
       "      <td>11-1021</td>\n",
       "      <td>General and Operations Managers</td>\n",
       "    </tr>\n",
       "    <tr>\n",
       "      <th>3</th>\n",
       "      <td>Alabama</td>\n",
       "      <td>11-1031</td>\n",
       "      <td>Legislators</td>\n",
       "    </tr>\n",
       "    <tr>\n",
       "      <th>4</th>\n",
       "      <td>Alabama</td>\n",
       "      <td>11-2011</td>\n",
       "      <td>Advertising and Promotions Managers</td>\n",
       "    </tr>\n",
       "  </tbody>\n",
       "</table>\n",
       "</div>"
      ],
      "text/plain": [
       "  Area Name Occupation Code                      Occupation Name\n",
       "0   Alabama         00-0000               Total, All Occupations\n",
       "1   Alabama         11-1011                     Chief Executives\n",
       "2   Alabama         11-1021      General and Operations Managers\n",
       "3   Alabama         11-1031                          Legislators\n",
       "4   Alabama         11-2011  Advertising and Promotions Managers"
      ]
     },
     "execution_count": 15,
     "metadata": {},
     "output_type": "execute_result"
    }
   ],
   "source": [
    "df[categorical].head()"
   ]
  },
  {
   "cell_type": "markdown",
   "id": "b57e0c7b",
   "metadata": {},
   "source": [
    "### CHECK MISSING VALUE IN CATEGORIAL VARAIBLES"
   ]
  },
  {
   "cell_type": "code",
   "execution_count": 16,
   "id": "6527a251",
   "metadata": {},
   "outputs": [
    {
     "data": {
      "text/plain": [
       "Area Name          0\n",
       "Occupation Code    0\n",
       "Occupation Name    0\n",
       "dtype: int64"
      ]
     },
     "execution_count": 16,
     "metadata": {},
     "output_type": "execute_result"
    }
   ],
   "source": [
    "df[categorical].isnull().sum()"
   ]
  },
  {
   "cell_type": "code",
   "execution_count": 17,
   "id": "52aa5539",
   "metadata": {},
   "outputs": [
    {
     "data": {
      "text/plain": [
       "pandas.core.frame.DataFrame"
      ]
     },
     "execution_count": 17,
     "metadata": {},
     "output_type": "execute_result"
    }
   ],
   "source": [
    "type(df[categorical])"
   ]
  },
  {
   "cell_type": "markdown",
   "id": "f4c46150",
   "metadata": {},
   "source": [
    "### CHECK NUMERICAL VARAIBLES"
   ]
  },
  {
   "cell_type": "code",
   "execution_count": 18,
   "id": "3d1bfa75",
   "metadata": {},
   "outputs": [
    {
     "name": "stdout",
     "output_type": "stream",
     "text": [
      "Series([], dtype: float64)\n"
     ]
    }
   ],
   "source": [
    "cat1 = [var for var in categorical if df[var].isnull().sum()!=0]\n",
    "print(df[cat1].isnull().sum())"
   ]
  },
  {
   "cell_type": "markdown",
   "id": "3096143e",
   "metadata": {},
   "source": [
    "## EXPLORE PROBLEMS WITHIN NUMERICAL VARIABLES"
   ]
  },
  {
   "cell_type": "markdown",
   "id": "1c006fab",
   "metadata": {},
   "source": [
    "### DISPLAY NUMEERICAL VARIABLE COLUMN NAMES"
   ]
  },
  {
   "cell_type": "code",
   "execution_count": 19,
   "id": "644e9403",
   "metadata": {},
   "outputs": [
    {
     "name": "stdout",
     "output_type": "stream",
     "text": [
      "There are 8 numerical variables\n",
      "\n",
      "The numerical variables are : ['State FIPS', 'Year', '2022 opening', 'Prediction Year', '2023 opening', 'Change', 'Percent Change', 'Average Annual Openings']\n"
     ]
    }
   ],
   "source": [
    "numerical = [var for var in df.columns if df[var].dtype!='O']\n",
    "print('There are {} numerical variables\\n'.format(len(numerical)))\n",
    "print('The numerical variables are :', numerical)"
   ]
  },
  {
   "cell_type": "markdown",
   "id": "6d2d7090",
   "metadata": {},
   "source": [
    "### DISPLAY FIRST 5 ROWS OF NUMERICAL VARIABLE"
   ]
  },
  {
   "cell_type": "code",
   "execution_count": 20,
   "id": "28a28e90",
   "metadata": {},
   "outputs": [
    {
     "data": {
      "text/html": [
       "<div>\n",
       "<style scoped>\n",
       "    .dataframe tbody tr th:only-of-type {\n",
       "        vertical-align: middle;\n",
       "    }\n",
       "\n",
       "    .dataframe tbody tr th {\n",
       "        vertical-align: top;\n",
       "    }\n",
       "\n",
       "    .dataframe thead th {\n",
       "        text-align: right;\n",
       "    }\n",
       "</style>\n",
       "<table border=\"1\" class=\"dataframe\">\n",
       "  <thead>\n",
       "    <tr style=\"text-align: right;\">\n",
       "      <th></th>\n",
       "      <th>State FIPS</th>\n",
       "      <th>Year</th>\n",
       "      <th>2022 opening</th>\n",
       "      <th>Prediction Year</th>\n",
       "      <th>2023 opening</th>\n",
       "      <th>Change</th>\n",
       "      <th>Percent Change</th>\n",
       "      <th>Average Annual Openings</th>\n",
       "    </tr>\n",
       "  </thead>\n",
       "  <tbody>\n",
       "    <tr>\n",
       "      <th>0</th>\n",
       "      <td>1</td>\n",
       "      <td>2022</td>\n",
       "      <td>2139020</td>\n",
       "      <td>2023</td>\n",
       "      <td>2202040</td>\n",
       "      <td>63020</td>\n",
       "      <td>2.9</td>\n",
       "      <td>269120</td>\n",
       "    </tr>\n",
       "    <tr>\n",
       "      <th>1</th>\n",
       "      <td>1</td>\n",
       "      <td>2022</td>\n",
       "      <td>2460</td>\n",
       "      <td>2023</td>\n",
       "      <td>2460</td>\n",
       "      <td>0</td>\n",
       "      <td>0.0</td>\n",
       "      <td>170</td>\n",
       "    </tr>\n",
       "    <tr>\n",
       "      <th>2</th>\n",
       "      <td>1</td>\n",
       "      <td>2022</td>\n",
       "      <td>33020</td>\n",
       "      <td>2023</td>\n",
       "      <td>34260</td>\n",
       "      <td>1240</td>\n",
       "      <td>3.8</td>\n",
       "      <td>3380</td>\n",
       "    </tr>\n",
       "    <tr>\n",
       "      <th>3</th>\n",
       "      <td>1</td>\n",
       "      <td>2022</td>\n",
       "      <td>1170</td>\n",
       "      <td>2023</td>\n",
       "      <td>1190</td>\n",
       "      <td>20</td>\n",
       "      <td>1.7</td>\n",
       "      <td>100</td>\n",
       "    </tr>\n",
       "    <tr>\n",
       "      <th>4</th>\n",
       "      <td>1</td>\n",
       "      <td>2022</td>\n",
       "      <td>70</td>\n",
       "      <td>2023</td>\n",
       "      <td>80</td>\n",
       "      <td>10</td>\n",
       "      <td>14.3</td>\n",
       "      <td>10</td>\n",
       "    </tr>\n",
       "  </tbody>\n",
       "</table>\n",
       "</div>"
      ],
      "text/plain": [
       "   State FIPS  Year  2022 opening  Prediction Year  2023 opening  Change  \\\n",
       "0           1  2022       2139020             2023       2202040   63020   \n",
       "1           1  2022          2460             2023          2460       0   \n",
       "2           1  2022         33020             2023         34260    1240   \n",
       "3           1  2022          1170             2023          1190      20   \n",
       "4           1  2022            70             2023            80      10   \n",
       "\n",
       "   Percent Change  Average Annual Openings  \n",
       "0             2.9                   269120  \n",
       "1             0.0                      170  \n",
       "2             3.8                     3380  \n",
       "3             1.7                      100  \n",
       "4            14.3                       10  "
      ]
     },
     "execution_count": 20,
     "metadata": {},
     "output_type": "execute_result"
    }
   ],
   "source": [
    "df[numerical].head()"
   ]
  },
  {
   "cell_type": "markdown",
   "id": "e091a62b",
   "metadata": {},
   "source": [
    "### TO DISPLAY THE MISSING ALUE IN THE NUERICAL VAARIABLE"
   ]
  },
  {
   "cell_type": "code",
   "execution_count": 21,
   "id": "c3c89d3b",
   "metadata": {},
   "outputs": [
    {
     "data": {
      "text/plain": [
       "State FIPS                 0\n",
       "Year                       0\n",
       "2022 opening               0\n",
       "Prediction Year            0\n",
       "2023 opening               0\n",
       "Change                     0\n",
       "Percent Change             0\n",
       "Average Annual Openings    0\n",
       "dtype: int64"
      ]
     },
     "execution_count": 21,
     "metadata": {},
     "output_type": "execute_result"
    }
   ],
   "source": [
    "df[numerical].isnull().sum()"
   ]
  },
  {
   "cell_type": "markdown",
   "id": "6cb54f1e",
   "metadata": {},
   "source": [
    "### TARGET VARIABLE"
   ]
  },
  {
   "cell_type": "code",
   "execution_count": 22,
   "id": "cf4956e3",
   "metadata": {},
   "outputs": [
    {
     "data": {
      "text/plain": [
       "60         453\n",
       "80         451\n",
       "70         446\n",
       "90         440\n",
       "100        406\n",
       "          ... \n",
       "17110        1\n",
       "9240         1\n",
       "23170        1\n",
       "1512460      1\n",
       "24250        1\n",
       "Name: 2023 opening, Length: 3211, dtype: int64"
      ]
     },
     "execution_count": 22,
     "metadata": {},
     "output_type": "execute_result"
    }
   ],
   "source": [
    "df['2023 opening'].value_counts()"
   ]
  },
  {
   "cell_type": "markdown",
   "id": "dd3622cb",
   "metadata": {},
   "source": [
    "### SPLITTING THE FEATURES AND DATA"
   ]
  },
  {
   "cell_type": "code",
   "execution_count": 23,
   "id": "6c5e6e2c",
   "metadata": {},
   "outputs": [],
   "source": [
    "#split dataset in features and target variable\n",
    "feature_cols = ['State FIPS','2022 opening']\n",
    "X = df[feature_cols]# Features\n",
    "y = df['2023 opening']"
   ]
  },
  {
   "cell_type": "markdown",
   "id": "a05c9595",
   "metadata": {},
   "source": [
    " ### NO OF ROWS IN X - FEATURE"
   ]
  },
  {
   "cell_type": "code",
   "execution_count": 24,
   "id": "b22b36cc",
   "metadata": {},
   "outputs": [
    {
     "data": {
      "text/plain": [
       "(33421, 2)"
      ]
     },
     "execution_count": 24,
     "metadata": {},
     "output_type": "execute_result"
    }
   ],
   "source": [
    "X.shape"
   ]
  },
  {
   "cell_type": "markdown",
   "id": "102e2444",
   "metadata": {},
   "source": [
    "### NO OF ROWS IN Y"
   ]
  },
  {
   "cell_type": "code",
   "execution_count": 25,
   "id": "8f0d9fc7",
   "metadata": {},
   "outputs": [
    {
     "data": {
      "text/plain": [
       "(33421,)"
      ]
     },
     "execution_count": 25,
     "metadata": {},
     "output_type": "execute_result"
    }
   ],
   "source": [
    "y.shape"
   ]
  },
  {
   "cell_type": "markdown",
   "id": "6385135a",
   "metadata": {},
   "source": [
    "### SPLITTING THE DATA INTO TRIAN DATA AN TEST DATA"
   ]
  },
  {
   "cell_type": "code",
   "execution_count": 26,
   "id": "8f8d5a1d",
   "metadata": {},
   "outputs": [],
   "source": [
    "X_train, X_test, y_train, y_test = train_test_split(X, y, test_size=0.3, random_state=1) # 70% training and 30% test\n"
   ]
  },
  {
   "cell_type": "code",
   "execution_count": 27,
   "id": "56a107f4",
   "metadata": {},
   "outputs": [
    {
     "name": "stdout",
     "output_type": "stream",
     "text": [
      "(33421, 2) (23394, 2) (10027,)\n"
     ]
    }
   ],
   "source": [
    "print(X.shape,X_train.shape,y_test.shape)"
   ]
  },
  {
   "cell_type": "markdown",
   "id": "332e2ba2",
   "metadata": {},
   "source": [
    "### PREDICTION USING DECISION TREE ALGORITHM"
   ]
  },
  {
   "cell_type": "code",
   "execution_count": 28,
   "id": "8f7bcc77",
   "metadata": {},
   "outputs": [],
   "source": [
    "# Create Decision Tree classifer object\n",
    "clf = DecisionTreeClassifier()\n",
    "\n",
    "# Train Decision Tree Classifer\n",
    "clf = clf.fit(X_train,y_train)\n",
    "\n",
    "#Predict the response for test dataset\n",
    "y_pred = clf.predict(X_test)"
   ]
  },
  {
   "cell_type": "markdown",
   "id": "29f443ec",
   "metadata": {},
   "source": [
    "### ACCURACY USING DECISION TREE"
   ]
  },
  {
   "cell_type": "code",
   "execution_count": 29,
   "id": "1cb4479b",
   "metadata": {},
   "outputs": [
    {
     "name": "stdout",
     "output_type": "stream",
     "text": [
      "Accuracy: 22.22000598384362\n"
     ]
    }
   ],
   "source": [
    "# Model Accuracy, how often is the classifier correct?\n",
    "print(\"Accuracy:\",metrics.accuracy_score(y_test, y_pred)*100)\n"
   ]
  },
  {
   "cell_type": "markdown",
   "id": "e73cc550",
   "metadata": {},
   "source": [
    "### OPTIMISING DECISION TREE ACCURACY"
   ]
  },
  {
   "cell_type": "code",
   "execution_count": 30,
   "id": "1c9ade98",
   "metadata": {},
   "outputs": [
    {
     "name": "stdout",
     "output_type": "stream",
     "text": [
      "Accuracy: 3.390844719258004\n"
     ]
    }
   ],
   "source": [
    "# Create Decision Tree classifer object\n",
    "clf = DecisionTreeClassifier(criterion=\"entropy\", max_depth=3)\n",
    "\n",
    "# Train Decision Tree Classifer\n",
    "clf = clf.fit(X_train,y_train)\n",
    "\n",
    "#Predict the response for test dataset\n",
    "y_pred = clf.predict(X_test)\n",
    "\n",
    "# Model Accuracy, how often is the classifier correct?\n",
    "print(\"Accuracy:\",metrics.accuracy_score(y_test, y_pred)*100)"
   ]
  },
  {
   "cell_type": "markdown",
   "id": "764e7237",
   "metadata": {},
   "source": [
    "### PREDICTION USING - K NEAREST NEIGHBOR (KNN) ALGORITHM"
   ]
  },
  {
   "cell_type": "code",
   "execution_count": 31,
   "id": "cf8e20cb",
   "metadata": {},
   "outputs": [],
   "source": [
    "#split dataset in features and target variable\n",
    "feature_cols = ['2022 opening','Change']\n",
    "A = df[feature_cols]# Features\n",
    "B = df['2023 opening']"
   ]
  },
  {
   "cell_type": "code",
   "execution_count": 32,
   "id": "315883c2",
   "metadata": {},
   "outputs": [],
   "source": [
    "# Split dataset into training set and test set\n",
    "A_train, A_test, B_train, B_test = train_test_split(A, B, test_size=0.3, random_state=1) # 70% training and 30% test\n"
   ]
  },
  {
   "cell_type": "code",
   "execution_count": 33,
   "id": "76779653",
   "metadata": {},
   "outputs": [
    {
     "data": {
      "text/html": [
       "<style>#sk-container-id-1 {color: black;background-color: white;}#sk-container-id-1 pre{padding: 0;}#sk-container-id-1 div.sk-toggleable {background-color: white;}#sk-container-id-1 label.sk-toggleable__label {cursor: pointer;display: block;width: 100%;margin-bottom: 0;padding: 0.3em;box-sizing: border-box;text-align: center;}#sk-container-id-1 label.sk-toggleable__label-arrow:before {content: \"▸\";float: left;margin-right: 0.25em;color: #696969;}#sk-container-id-1 label.sk-toggleable__label-arrow:hover:before {color: black;}#sk-container-id-1 div.sk-estimator:hover label.sk-toggleable__label-arrow:before {color: black;}#sk-container-id-1 div.sk-toggleable__content {max-height: 0;max-width: 0;overflow: hidden;text-align: left;background-color: #f0f8ff;}#sk-container-id-1 div.sk-toggleable__content pre {margin: 0.2em;color: black;border-radius: 0.25em;background-color: #f0f8ff;}#sk-container-id-1 input.sk-toggleable__control:checked~div.sk-toggleable__content {max-height: 200px;max-width: 100%;overflow: auto;}#sk-container-id-1 input.sk-toggleable__control:checked~label.sk-toggleable__label-arrow:before {content: \"▾\";}#sk-container-id-1 div.sk-estimator input.sk-toggleable__control:checked~label.sk-toggleable__label {background-color: #d4ebff;}#sk-container-id-1 div.sk-label input.sk-toggleable__control:checked~label.sk-toggleable__label {background-color: #d4ebff;}#sk-container-id-1 input.sk-hidden--visually {border: 0;clip: rect(1px 1px 1px 1px);clip: rect(1px, 1px, 1px, 1px);height: 1px;margin: -1px;overflow: hidden;padding: 0;position: absolute;width: 1px;}#sk-container-id-1 div.sk-estimator {font-family: monospace;background-color: #f0f8ff;border: 1px dotted black;border-radius: 0.25em;box-sizing: border-box;margin-bottom: 0.5em;}#sk-container-id-1 div.sk-estimator:hover {background-color: #d4ebff;}#sk-container-id-1 div.sk-parallel-item::after {content: \"\";width: 100%;border-bottom: 1px solid gray;flex-grow: 1;}#sk-container-id-1 div.sk-label:hover label.sk-toggleable__label {background-color: #d4ebff;}#sk-container-id-1 div.sk-serial::before {content: \"\";position: absolute;border-left: 1px solid gray;box-sizing: border-box;top: 0;bottom: 0;left: 50%;z-index: 0;}#sk-container-id-1 div.sk-serial {display: flex;flex-direction: column;align-items: center;background-color: white;padding-right: 0.2em;padding-left: 0.2em;position: relative;}#sk-container-id-1 div.sk-item {position: relative;z-index: 1;}#sk-container-id-1 div.sk-parallel {display: flex;align-items: stretch;justify-content: center;background-color: white;position: relative;}#sk-container-id-1 div.sk-item::before, #sk-container-id-1 div.sk-parallel-item::before {content: \"\";position: absolute;border-left: 1px solid gray;box-sizing: border-box;top: 0;bottom: 0;left: 50%;z-index: -1;}#sk-container-id-1 div.sk-parallel-item {display: flex;flex-direction: column;z-index: 1;position: relative;background-color: white;}#sk-container-id-1 div.sk-parallel-item:first-child::after {align-self: flex-end;width: 50%;}#sk-container-id-1 div.sk-parallel-item:last-child::after {align-self: flex-start;width: 50%;}#sk-container-id-1 div.sk-parallel-item:only-child::after {width: 0;}#sk-container-id-1 div.sk-dashed-wrapped {border: 1px dashed gray;margin: 0 0.4em 0.5em 0.4em;box-sizing: border-box;padding-bottom: 0.4em;background-color: white;}#sk-container-id-1 div.sk-label label {font-family: monospace;font-weight: bold;display: inline-block;line-height: 1.2em;}#sk-container-id-1 div.sk-label-container {text-align: center;}#sk-container-id-1 div.sk-container {/* jupyter's `normalize.less` sets `[hidden] { display: none; }` but bootstrap.min.css set `[hidden] { display: none !important; }` so we also need the `!important` here to be able to override the default hidden behavior on the sphinx rendered scikit-learn.org. See: https://github.com/scikit-learn/scikit-learn/issues/21755 */display: inline-block !important;position: relative;}#sk-container-id-1 div.sk-text-repr-fallback {display: none;}</style><div id=\"sk-container-id-1\" class=\"sk-top-container\"><div class=\"sk-text-repr-fallback\"><pre>KNeighborsClassifier(n_neighbors=3)</pre><b>In a Jupyter environment, please rerun this cell to show the HTML representation or trust the notebook. <br />On GitHub, the HTML representation is unable to render, please try loading this page with nbviewer.org.</b></div><div class=\"sk-container\" hidden><div class=\"sk-item\"><div class=\"sk-estimator sk-toggleable\"><input class=\"sk-toggleable__control sk-hidden--visually\" id=\"sk-estimator-id-1\" type=\"checkbox\" checked><label for=\"sk-estimator-id-1\" class=\"sk-toggleable__label sk-toggleable__label-arrow\">KNeighborsClassifier</label><div class=\"sk-toggleable__content\"><pre>KNeighborsClassifier(n_neighbors=3)</pre></div></div></div></div></div>"
      ],
      "text/plain": [
       "KNeighborsClassifier(n_neighbors=3)"
      ]
     },
     "execution_count": 33,
     "metadata": {},
     "output_type": "execute_result"
    }
   ],
   "source": [
    "knn = KNeighborsClassifier(n_neighbors=3)\n",
    "knn.fit(A_train, B_train)"
   ]
  },
  {
   "cell_type": "code",
   "execution_count": 34,
   "id": "1414abcf",
   "metadata": {},
   "outputs": [],
   "source": [
    "B_pred = knn.predict(A_test)"
   ]
  },
  {
   "cell_type": "code",
   "execution_count": 35,
   "id": "0786bc12",
   "metadata": {},
   "outputs": [
    {
     "name": "stdout",
     "output_type": "stream",
     "text": [
      "Accuracy: 63.53844619527277\n"
     ]
    }
   ],
   "source": [
    "accuracy = accuracy_score(B_test, B_pred)\n",
    "print(\"Accuracy:\", accuracy*100)"
   ]
  },
  {
   "cell_type": "markdown",
   "id": "1a55674d",
   "metadata": {},
   "source": [
    "### PREDICTION USING - SUPPORT VECTOR MACHINES (SVM) ALGORITHM"
   ]
  },
  {
   "cell_type": "code",
   "execution_count": 36,
   "id": "235ce68a",
   "metadata": {},
   "outputs": [],
   "source": [
    "#Creating Training Data and Test Data\n",
    "\n",
    "y = df['2023 opening']\n",
    "\n",
    "x = df.iloc[:, [0,5,8]].values"
   ]
  },
  {
   "cell_type": "code",
   "execution_count": 37,
   "id": "8f32482a",
   "metadata": {},
   "outputs": [],
   "source": [
    "x_train, x_test, y_train, y_test = train_test_split(x, y, test_size=0.3, random_state=1) # 70% training and 30% test\n"
   ]
  },
  {
   "cell_type": "code",
   "execution_count": 38,
   "id": "4dc81dd7",
   "metadata": {},
   "outputs": [
    {
     "data": {
      "text/html": [
       "<style>#sk-container-id-2 {color: black;background-color: white;}#sk-container-id-2 pre{padding: 0;}#sk-container-id-2 div.sk-toggleable {background-color: white;}#sk-container-id-2 label.sk-toggleable__label {cursor: pointer;display: block;width: 100%;margin-bottom: 0;padding: 0.3em;box-sizing: border-box;text-align: center;}#sk-container-id-2 label.sk-toggleable__label-arrow:before {content: \"▸\";float: left;margin-right: 0.25em;color: #696969;}#sk-container-id-2 label.sk-toggleable__label-arrow:hover:before {color: black;}#sk-container-id-2 div.sk-estimator:hover label.sk-toggleable__label-arrow:before {color: black;}#sk-container-id-2 div.sk-toggleable__content {max-height: 0;max-width: 0;overflow: hidden;text-align: left;background-color: #f0f8ff;}#sk-container-id-2 div.sk-toggleable__content pre {margin: 0.2em;color: black;border-radius: 0.25em;background-color: #f0f8ff;}#sk-container-id-2 input.sk-toggleable__control:checked~div.sk-toggleable__content {max-height: 200px;max-width: 100%;overflow: auto;}#sk-container-id-2 input.sk-toggleable__control:checked~label.sk-toggleable__label-arrow:before {content: \"▾\";}#sk-container-id-2 div.sk-estimator input.sk-toggleable__control:checked~label.sk-toggleable__label {background-color: #d4ebff;}#sk-container-id-2 div.sk-label input.sk-toggleable__control:checked~label.sk-toggleable__label {background-color: #d4ebff;}#sk-container-id-2 input.sk-hidden--visually {border: 0;clip: rect(1px 1px 1px 1px);clip: rect(1px, 1px, 1px, 1px);height: 1px;margin: -1px;overflow: hidden;padding: 0;position: absolute;width: 1px;}#sk-container-id-2 div.sk-estimator {font-family: monospace;background-color: #f0f8ff;border: 1px dotted black;border-radius: 0.25em;box-sizing: border-box;margin-bottom: 0.5em;}#sk-container-id-2 div.sk-estimator:hover {background-color: #d4ebff;}#sk-container-id-2 div.sk-parallel-item::after {content: \"\";width: 100%;border-bottom: 1px solid gray;flex-grow: 1;}#sk-container-id-2 div.sk-label:hover label.sk-toggleable__label {background-color: #d4ebff;}#sk-container-id-2 div.sk-serial::before {content: \"\";position: absolute;border-left: 1px solid gray;box-sizing: border-box;top: 0;bottom: 0;left: 50%;z-index: 0;}#sk-container-id-2 div.sk-serial {display: flex;flex-direction: column;align-items: center;background-color: white;padding-right: 0.2em;padding-left: 0.2em;position: relative;}#sk-container-id-2 div.sk-item {position: relative;z-index: 1;}#sk-container-id-2 div.sk-parallel {display: flex;align-items: stretch;justify-content: center;background-color: white;position: relative;}#sk-container-id-2 div.sk-item::before, #sk-container-id-2 div.sk-parallel-item::before {content: \"\";position: absolute;border-left: 1px solid gray;box-sizing: border-box;top: 0;bottom: 0;left: 50%;z-index: -1;}#sk-container-id-2 div.sk-parallel-item {display: flex;flex-direction: column;z-index: 1;position: relative;background-color: white;}#sk-container-id-2 div.sk-parallel-item:first-child::after {align-self: flex-end;width: 50%;}#sk-container-id-2 div.sk-parallel-item:last-child::after {align-self: flex-start;width: 50%;}#sk-container-id-2 div.sk-parallel-item:only-child::after {width: 0;}#sk-container-id-2 div.sk-dashed-wrapped {border: 1px dashed gray;margin: 0 0.4em 0.5em 0.4em;box-sizing: border-box;padding-bottom: 0.4em;background-color: white;}#sk-container-id-2 div.sk-label label {font-family: monospace;font-weight: bold;display: inline-block;line-height: 1.2em;}#sk-container-id-2 div.sk-label-container {text-align: center;}#sk-container-id-2 div.sk-container {/* jupyter's `normalize.less` sets `[hidden] { display: none; }` but bootstrap.min.css set `[hidden] { display: none !important; }` so we also need the `!important` here to be able to override the default hidden behavior on the sphinx rendered scikit-learn.org. See: https://github.com/scikit-learn/scikit-learn/issues/21755 */display: inline-block !important;position: relative;}#sk-container-id-2 div.sk-text-repr-fallback {display: none;}</style><div id=\"sk-container-id-2\" class=\"sk-top-container\"><div class=\"sk-text-repr-fallback\"><pre>SVC(kernel=&#x27;linear&#x27;, random_state=0)</pre><b>In a Jupyter environment, please rerun this cell to show the HTML representation or trust the notebook. <br />On GitHub, the HTML representation is unable to render, please try loading this page with nbviewer.org.</b></div><div class=\"sk-container\" hidden><div class=\"sk-item\"><div class=\"sk-estimator sk-toggleable\"><input class=\"sk-toggleable__control sk-hidden--visually\" id=\"sk-estimator-id-2\" type=\"checkbox\" checked><label for=\"sk-estimator-id-2\" class=\"sk-toggleable__label sk-toggleable__label-arrow\">SVC</label><div class=\"sk-toggleable__content\"><pre>SVC(kernel=&#x27;linear&#x27;, random_state=0)</pre></div></div></div></div></div>"
      ],
      "text/plain": [
       "SVC(kernel='linear', random_state=0)"
      ]
     },
     "execution_count": 38,
     "metadata": {},
     "output_type": "execute_result"
    }
   ],
   "source": [
    "#Create a svm Classifier\n",
    "\n",
    "clf = SVC(kernel='linear', random_state=0)  \n",
    " # Linear Kernel\n",
    "\n",
    "#Train the model using the training sets\n",
    "clf.fit(x_train, y_train)\n"
   ]
  },
  {
   "cell_type": "code",
   "execution_count": 39,
   "id": "c4db060b",
   "metadata": {},
   "outputs": [],
   "source": [
    "#Predict the response for test dataset\n",
    "y_pred = clf.predict(x_test)\n"
   ]
  },
  {
   "cell_type": "code",
   "execution_count": 40,
   "id": "f93019cc",
   "metadata": {},
   "outputs": [
    {
     "name": "stdout",
     "output_type": "stream",
     "text": [
      "Accuracy: 87.93258202852299\n"
     ]
    }
   ],
   "source": [
    "#Import scikit-learn metrics module for accuracy calculation\n",
    "\n",
    "# Model Accuracy: how often is the classifier correct?\n",
    "print(\"Accuracy:\",accuracy_score(y_test, y_pred)*100)"
   ]
  },
  {
   "cell_type": "markdown",
   "id": "9fe3dcba",
   "metadata": {},
   "source": [
    "### CONFUSION MATRIX"
   ]
  },
  {
   "cell_type": "code",
   "execution_count": 41,
   "id": "02fc1009",
   "metadata": {},
   "outputs": [],
   "source": [
    "# Create a confusion matrix \n",
    "confusion_matrix = confusion_matrix(y_test, y_pred)"
   ]
  },
  {
   "cell_type": "code",
   "execution_count": 42,
   "id": "a1913762",
   "metadata": {},
   "outputs": [
    {
     "data": {
      "text/plain": [
       "array([[13,  0,  0, ...,  0,  0,  0],\n",
       "       [ 0, 34,  0, ...,  0,  0,  0],\n",
       "       [ 0,  0, 75, ...,  0,  0,  0],\n",
       "       ...,\n",
       "       [ 0,  0,  0, ...,  0,  0,  0],\n",
       "       [ 0,  0,  0, ...,  1,  0,  0],\n",
       "       [ 0,  0,  0, ...,  1,  0,  0]], dtype=int64)"
      ]
     },
     "execution_count": 42,
     "metadata": {},
     "output_type": "execute_result"
    }
   ],
   "source": [
    "confusion_matrix"
   ]
  },
  {
   "cell_type": "markdown",
   "id": "00ace8f8",
   "metadata": {},
   "source": [
    "### VISUALIZATION USING VARIOUS CHARTS"
   ]
  },
  {
   "cell_type": "code",
   "execution_count": 43,
   "id": "4925e43b",
   "metadata": {},
   "outputs": [
    {
     "data": {
      "image/png": "[encoded data removed]",
      "text/plain": [
       "<Figure size 2000x1000 with 2 Axes>"
      ]
     },
     "metadata": {},
     "output_type": "display_data"
    }
   ],
   "source": [
    "plt.figure(figsize=(20,10))\n",
    "sns.heatmap(data=df.iloc[:,4:].corr(),annot=True,fmt='.2f',cmap='seismic')\n",
    "plt.show()"
   ]
  },
  {
   "cell_type": "code",
   "execution_count": 44,
   "id": "f5d4f53c",
   "metadata": {},
   "outputs": [
    {
     "data": {
      "image/png": "[encoded data removed]",
      "text/plain": [
       "<Figure size 640x480 with 1 Axes>"
      ]
     },
     "metadata": {},
     "output_type": "display_data"
    }
   ],
   "source": [
    "# Scatter plot with day against tip\n",
    "plt.scatter(df['State FIPS'], df['2023 opening'])\n",
    "\n",
    "# Adding Title to the Plot\n",
    "plt.title(\"Scatter Plot\")\n",
    "\n",
    "# Setting the X and Y labels\n",
    "plt.xlabel('area')\n",
    "plt.ylabel('2023')\n",
    "\n",
    "plt.show()\n"
   ]
  },
  {
   "cell_type": "code",
   "execution_count": 45,
   "id": "ad1b3d91",
   "metadata": {},
   "outputs": [
    {
     "name": "stderr",
     "output_type": "stream",
     "text": [
      "BokehUserWarning: ColumnDataSource's columns must be of the same length. Current lengths: ('fill_color', 256), ('x', 33421), ('y', 33421)\n",
      "BokehUserWarning: ColumnDataSource's columns must be of the same length. Current lengths: ('fill_color', 256), ('line_color', 256), ('x', 33421), ('y', 33421)\n",
      "BokehUserWarning: ColumnDataSource's columns must be of the same length. Current lengths: ('fill_color', 256), ('hatch_color', 256), ('line_color', 256), ('x', 33421), ('y', 33421)\n"
     ]
    }
   ],
   "source": [
    "from bokeh.plotting import figure, output_file, show\n",
    "from bokeh.palettes import magma\n",
    "import pandas as pd\n",
    "\n",
    "graph = figure(title = \"job difference in 2022 & 2023 Scatter Graph\")\n",
    "\n",
    "color = magma(256)\n",
    "\n",
    "# plotting the graph\n",
    "graph.scatter(df['2022 opening'], df['2023 opening'], color=color)\n",
    "show(graph)"
   ]
  },
  {
   "cell_type": "markdown",
   "id": "d7dc596d",
   "metadata": {},
   "source": [
    "##### VISUALIZATION OF EMPLOYMENT ACCORDING TO AREA"
   ]
  },
  {
   "cell_type": "code",
   "execution_count": 46,
   "id": "292d1221",
   "metadata": {},
   "outputs": [
    {
     "data": {
      "text/plain": [
       "<Axes: ylabel='2023 opening'>"
      ]
     },
     "execution_count": 46,
     "metadata": {},
     "output_type": "execute_result"
    },
    {
     "data": {
      "image/png": "[encoded data removed]",
      "text/plain": [
       "<Figure size 640x480 with 1 Axes>"
      ]
     },
     "metadata": {},
     "output_type": "display_data"
    }
   ],
   "source": [
    "# import module\n",
    "import seaborn as sns\n",
    "import pandas\n",
    "\n",
    "# plotting lineplot\n",
    "sns.lineplot(df['2023 opening'])"
   ]
  },
  {
   "cell_type": "code",
   "execution_count": 47,
   "id": "14df6954",
   "metadata": {},
   "outputs": [
    {
     "data": {
      "text/plain": [
       "<Axes: xlabel='Area Name', ylabel='count'>"
      ]
     },
     "execution_count": 47,
     "metadata": {},
     "output_type": "execute_result"
    },
    {
     "data": {
      "image/png": "[encoded data removed]",
      "text/plain": [
       "<Figure size 640x480 with 1 Axes>"
      ]
     },
     "metadata": {},
     "output_type": "display_data"
    }
   ],
   "source": [
    "top_10 = df.nlargest(10, '2023 opening')\n",
    "sns.countplot(x = 'Area Name', data = top_10, hue ='Area Name')"
   ]
  },
  {
   "cell_type": "code",
   "execution_count": 48,
   "id": "4e52c07d",
   "metadata": {},
   "outputs": [
    {
     "data": {
      "text/plain": [
       "<Axes: >"
      ]
     },
     "execution_count": 48,
     "metadata": {},
     "output_type": "execute_result"
    },
    {
     "data": {
      "image/png": "[encoded data removed]",
      "text/plain": [
       "<Figure size 640x480 with 1 Axes>"
      ]
     },
     "metadata": {},
     "output_type": "display_data"
    }
   ],
   "source": [
    "sns.boxplot(df['2023 opening'])"
   ]
  },
  {
   "cell_type": "code",
   "execution_count": 49,
   "id": "21ccef1e",
   "metadata": {},
   "outputs": [
    {
     "data": {
      "text/plain": [
       "<Axes: >"
      ]
     },
     "execution_count": 49,
     "metadata": {},
     "output_type": "execute_result"
    },
    {
     "data": {
      "image/png": "[encoded data removed]",
      "text/plain": [
       "<Figure size 640x480 with 1 Axes>"
      ]
     },
     "metadata": {},
     "output_type": "display_data"
    }
   ],
   "source": [
    "sns.boxplot(df['State FIPS'])"
   ]
  },
  {
   "cell_type": "markdown",
   "id": "86ccbbf7",
   "metadata": {},
   "source": [
    "##### TOP 10 JOB VACANCY STATES"
   ]
  },
  {
   "cell_type": "code",
   "execution_count": 50,
   "id": "59187d7b",
   "metadata": {},
   "outputs": [
    {
     "data": {
      "image/png": "[encoded data removed]",
      "text/plain": [
       "<Figure size 640x480 with 1 Axes>"
      ]
     },
     "metadata": {},
     "output_type": "display_data"
    }
   ],
   "source": [
    "# Select the top 10 highest values\n",
    "top_10 = df.nlargest(10, '2023 opening')\n",
    "\n",
    "# Create a bar plot of the top 10 highest values\n",
    "plt.bar(top_10['Area Name'], top_10['2023 opening'])\n",
    "plt.xlabel('2023 opening')\n",
    "plt.ylabel('Area Name')\n",
    "plt.title('Top 10 highest values')\n",
    "plt.show()"
   ]
  },
  {
   "cell_type": "code",
   "execution_count": 51,
   "id": "dcb2c8b9",
   "metadata": {},
   "outputs": [
    {
     "data": {
      "text/plain": [
       "<seaborn.axisgrid.PairGrid at 0x1f328311990>"
      ]
     },
     "execution_count": 51,
     "metadata": {},
     "output_type": "execute_result"
    },
    {
     "data": {
      "image/png": "[encoded data removed]",
      "text/plain": [
       "<Figure size 750x750 with 12 Axes>"
      ]
     },
     "metadata": {},
     "output_type": "display_data"
    }
   ],
   "source": [
    "columns=['Area Name', 'State FIPS', '2023 opening', '2022 opening']\n",
    "sns.pairplot(df[columns])"
   ]
  }
 ],
 "metadata": {
  "kernelspec": {
   "display_name": "Python 3 (ipykernel)",
   "language": "python",
   "name": "python3"
  },
  "language_info": {
   "codemirror_mode": {
    "name": "ipython",
    "version": 3
   },
   "file_extension": ".py",
   "mimetype": "text/x-python",
   "name": "python",
   "nbconvert_exporter": "python",
   "pygments_lexer": "ipython3",
   "version": "3.10.9"
  }
 },
 "nbformat": 4,
 "nbformat_minor": 5
}
